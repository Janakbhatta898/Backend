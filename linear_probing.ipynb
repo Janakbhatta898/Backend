{
  "nbformat": 4,
  "nbformat_minor": 0,
  "metadata": {
    "colab": {
      "provenance": [],
      "authorship_tag": "ABX9TyPPTVvsONYF5cBmEle+VzwZ",
      "include_colab_link": true
    },
    "kernelspec": {
      "name": "python3",
      "display_name": "Python 3"
    },
    "language_info": {
      "name": "python"
    }
  },
  "cells": [
    {
      "cell_type": "markdown",
      "metadata": {
        "id": "view-in-github",
        "colab_type": "text"
      },
      "source": [
        "<a href=\"https://colab.research.google.com/github/Janakbhatta898/Backend/blob/main/linear_probing.ipynb\" target=\"_parent\"><img src=\"https://colab.research.google.com/assets/colab-badge.svg\" alt=\"Open In Colab\"/></a>"
      ]
    },
    {
      "cell_type": "code",
      "execution_count": 68,
      "metadata": {
        "id": "32youwIXMbb5"
      },
      "outputs": [],
      "source": [
        "class dictonary:\n",
        "\n",
        "\n",
        "  def __init__(self,size):\n",
        "\n",
        "\n",
        "    self.size=size\n",
        "    self.slots=[None]*self.size\n",
        "    self.data=[None]*self.size\n",
        "  def put(self,key,value):\n",
        "\n",
        "    hash_value=self.hash_function(key)\n",
        "    if self.slots[hash_value]==None:\n",
        "\n",
        "      self.slots[hash_value]=key\n",
        "      self.data[hash_value]=value\n",
        "\n",
        "    else:\n",
        "\n",
        "\n",
        "      if self.slots[hash_value]==key:\n",
        "\n",
        "        self.data[hash_value]=value\n",
        "\n",
        "\n",
        "      else:\n",
        "\n",
        "\n",
        "        new_hash=self.rehash(hash_value)\n",
        "        while self.slots[new_hash]!=None and self.slots[new_hash]!=key:\n",
        "\n",
        "          new_hash=self.rehash(new_hash)\n",
        "\n",
        "        if self.slots[new_hash]==None:\n",
        "\n",
        "          self.slots[new_hash]=key\n",
        "          self.data[new_hash]=value\n",
        "        else:\n",
        "          self.data[new_hash]=value\n",
        "\n",
        "\n",
        "\n",
        "\n",
        "\n",
        "\n",
        "\n",
        "\n",
        "\n",
        "\n",
        "\n",
        "\n",
        "\n",
        "\n",
        "\n",
        "\n",
        "\n",
        "\n",
        "  def get(self,key):\n",
        "    hash_value=self.hash_function(key) # Use self.hash_function\n",
        "    if self.slots[hash_value]==key:\n",
        "      return self.data[hash_value]\n",
        "    elif self.slots[hash_value]!=key: # Correct indentation\n",
        "        start_pos=hash_value\n",
        "        current_pos=self.rehash(hash_value)\n",
        "\n",
        "        while self.slots[start_pos]!=None and current_pos!=start_pos: # Use 'and' instead of 'or' and fix loop condition\n",
        "          if self.slots[current_pos] == key:\n",
        "            return self.data[current_pos]\n",
        "          current_pos=self.rehash(current_pos)\n",
        "        return 'not found' # Return 'not found' outside the while loop\n",
        "    return 'not found' # Return 'not found' if the initial slot is None\n",
        "\n",
        "\n",
        "  def rehash(self,old_hash):\n",
        "    return (old_hash+1)%self.size\n",
        "\n",
        "\n",
        "\n",
        "\n",
        "\n",
        "  def hash_function(self,key):\n",
        "    return abs(hash(key))%self.size"
      ]
    },
    {
      "cell_type": "code",
      "source": [
        "d=dictonary(3)"
      ],
      "metadata": {
        "id": "6rSMkufKNEFA"
      },
      "execution_count": 69,
      "outputs": []
    },
    {
      "cell_type": "code",
      "source": [
        "hash(\"python\")"
      ],
      "metadata": {
        "colab": {
          "base_uri": "https://localhost:8080/"
        },
        "id": "OZBIzHGDPprf",
        "outputId": "6fd5ce7c-7254-4f32-dc33-c7ab5a52444b"
      },
      "execution_count": 70,
      "outputs": [
        {
          "output_type": "execute_result",
          "data": {
            "text/plain": [
              "1932255424522930545"
            ]
          },
          "metadata": {},
          "execution_count": 70
        }
      ]
    },
    {
      "cell_type": "code",
      "source": [
        "print(d.slots)\n",
        "print(d.data)"
      ],
      "metadata": {
        "colab": {
          "base_uri": "https://localhost:8080/"
        },
        "id": "G6Zqetl8RIk3",
        "outputId": "428cce43-5051-4581-a65e-d85e0b5872a3"
      },
      "execution_count": 75,
      "outputs": [
        {
          "output_type": "stream",
          "name": "stdout",
          "text": [
            "['python', 'java', 'janak']\n",
            "[23, 45, 1]\n"
          ]
        }
      ]
    },
    {
      "cell_type": "code",
      "source": [
        "d.put(\"python\",23)\n",
        "d.put('java',45)\n",
        "d.put('janak',1)\n"
      ],
      "metadata": {
        "id": "SvZxRy8slDXE"
      },
      "execution_count": 76,
      "outputs": []
    },
    {
      "cell_type": "code",
      "source": [
        "d.get('python')"
      ],
      "metadata": {
        "colab": {
          "base_uri": "https://localhost:8080/"
        },
        "id": "5Ybkd9kolOb0",
        "outputId": "726c9abe-6cf6-4f0f-d4fd-53ec905c3b06"
      },
      "execution_count": 77,
      "outputs": [
        {
          "output_type": "execute_result",
          "data": {
            "text/plain": [
              "23"
            ]
          },
          "metadata": {},
          "execution_count": 77
        }
      ]
    },
    {
      "cell_type": "code",
      "source": [],
      "metadata": {
        "id": "3uKBOtztpn9R"
      },
      "execution_count": null,
      "outputs": []
    }
  ]
}